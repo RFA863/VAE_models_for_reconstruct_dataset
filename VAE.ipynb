{
  "nbformat": 4,
  "nbformat_minor": 0,
  "metadata": {
    "colab": {
      "provenance": [],
      "authorship_tag": "ABX9TyOmY1GD0yh4+K37AiM7Ufiw",
      "include_colab_link": true
    },
    "kernelspec": {
      "name": "python3",
      "display_name": "Python 3"
    },
    "language_info": {
      "name": "python"
    }
  },
  "cells": [
    {
      "cell_type": "markdown",
      "metadata": {
        "id": "view-in-github",
        "colab_type": "text"
      },
      "source": [
        "<a href=\"https://colab.research.google.com/github/RFA863/VAE_models_for_reconstruct_dataset/blob/main/VAE.ipynb\" target=\"_parent\"><img src=\"https://colab.research.google.com/assets/colab-badge.svg\" alt=\"Open In Colab\"/></a>"
      ]
    },
    {
      "cell_type": "code",
      "execution_count": 4,
      "metadata": {
        "id": "heVWfMJ1UB-s",
        "colab": {
          "base_uri": "https://localhost:8080/"
        },
        "outputId": "79afc7dc-3a31-4904-af30-8b261145a828"
      },
      "outputs": [
        {
          "output_type": "stream",
          "name": "stdout",
          "text": [
            "Drive already mounted at /content/drive; to attempt to forcibly remount, call drive.mount(\"/content/drive\", force_remount=True).\n"
          ]
        }
      ],
      "source": [
        "import pandas as pd\n",
        "import numpy as np\n",
        "import torch\n",
        "import torch.nn as nn\n",
        "import torch.nn.functional as F\n",
        "from torch.utils.data import Dataset, DataLoader, random_split\n",
        "from scipy.sparse import csr_matrix\n",
        "from sklearn.metrics import mean_squared_error, mean_absolute_error\n",
        "from google.colab import drive\n",
        "drive.mount('/content/drive')"
      ]
    },
    {
      "cell_type": "code",
      "source": [
        "# 1. Load and preprocess data\n",
        "interactions = pd.read_excel(\n",
        "    '/content/drive/My Drive/dataset/Tourism_Dataset/Transaction.xlsx',\n",
        "    engine='openpyxl'\n",
        ")\n",
        "interactions.rename(columns={'UserId': 'user_id', 'AttractionId': 'item_id'}, inplace=True)\n",
        "users = interactions['user_id'].unique()\n",
        "items = interactions['item_id'].unique()\n",
        "user2idx = {u: i for i, u in enumerate(users)}\n",
        "item2idx = {it: i for i, it in enumerate(items)}\n",
        "interactions['u_idx'] = interactions['user_id'].map(user2idx)\n",
        "interactions['i_idx'] = interactions['item_id'].map(item2idx)\n",
        "n_users = len(users)\n",
        "n_items = len(items)\n",
        "ratings = interactions['Rating'].astype(np.float32).values\n",
        "row = interactions['u_idx'].values\n",
        "col = interactions['i_idx'].values\n",
        "sparse_ui = csr_matrix((ratings, (row, col)), shape=(n_users, n_items))"
      ],
      "metadata": {
        "id": "eBYBk-A5LB3y"
      },
      "execution_count": null,
      "outputs": []
    },
    {
      "cell_type": "code",
      "source": [
        "# 2. Dataset & DataLoader\n",
        "def to_dense(idx, sparse):\n",
        "    vec = sparse[idx].toarray().squeeze().astype(np.float32)\n",
        "    max_rating = sparse.data.max() if sparse.data.size>0 else 1.0\n",
        "    return vec / max_rating\n",
        "\n",
        "class InteractionDataset(Dataset):\n",
        "    def __init__(self, sparse_matrix):\n",
        "        self.sparse = sparse_matrix.tocsr()\n",
        "    def __len__(self):\n",
        "        return self.sparse.shape[0]\n",
        "    def __getitem__(self, idx):\n",
        "        return to_dense(idx, self.sparse)\n",
        "\n",
        "dataset = InteractionDataset(sparse_ui)\n",
        "train_size = int(0.7 * len(dataset))\n",
        "val_size = int(0.15 * len(dataset))\n",
        "test_size = len(dataset) - train_size - val_size\n",
        "train_ds, val_ds, test_ds = random_split(dataset, [train_size, val_size, test_size])\n",
        "train_loader = DataLoader(train_ds, batch_size=128, shuffle=True)\n",
        "val_loader = DataLoader(val_ds, batch_size=128)\n",
        "test_loader = DataLoader(test_ds, batch_size=128)\n"
      ],
      "metadata": {
        "id": "4g9BcykqLRix"
      },
      "execution_count": 5,
      "outputs": []
    },
    {
      "cell_type": "code",
      "source": [
        "# 3. VAE definition\n",
        "class VAE(nn.Module):\n",
        "    def __init__(self, n_items, hidden_dim=600, latent_dim=200):\n",
        "        super().__init__()\n",
        "        self.enc_fc1 = nn.Linear(n_items, hidden_dim)\n",
        "        self.enc_mu = nn.Linear(hidden_dim, latent_dim)\n",
        "        self.enc_logvar = nn.Linear(hidden_dim, latent_dim)\n",
        "        self.dec_fc1 = nn.Linear(latent_dim, hidden_dim)\n",
        "        self.dec_out = nn.Linear(hidden_dim, n_items)\n",
        "    def encode(self, x):\n",
        "        h = F.relu(self.enc_fc1(x))\n",
        "        return self.enc_mu(h), self.enc_logvar(h)\n",
        "    def reparameterize(self, mu, logvar):\n",
        "        std = torch.exp(0.5 * logvar)\n",
        "        eps = torch.randn_like(std)\n",
        "        return mu + eps * std\n",
        "    def decode(self, z):\n",
        "        h = F.relu(self.dec_fc1(z))\n",
        "        return torch.sigmoid(self.dec_out(h))\n",
        "    def forward(self, x):\n",
        "        mu, logvar = self.encode(x)\n",
        "        z = self.reparameterize(mu, logvar)\n",
        "        return self.decode(z), mu, logvar"
      ],
      "metadata": {
        "id": "1ilLcXWfMKZN"
      },
      "execution_count": 6,
      "outputs": []
    },
    {
      "cell_type": "code",
      "source": [
        "# 4. Loss: MSE + KL\n",
        "def loss_fn(recon_x, x, mu, logvar, beta=1.0):\n",
        "    mse = F.mse_loss(recon_x, x, reduction='sum')\n",
        "    kld = -0.5 * torch.sum(1 + logvar - mu.pow(2) - logvar.exp())\n",
        "    return mse + beta * kld"
      ],
      "metadata": {
        "id": "IH4e33d_MOAK"
      },
      "execution_count": 7,
      "outputs": []
    },
    {
      "cell_type": "code",
      "source": [
        "# 5. Training loop\n",
        "device = torch.device('cuda' if torch.cuda.is_available() else 'cpu')\n",
        "model = VAE(n_items).to(device)\n",
        "optimizer = torch.optim.Adam(model.parameters(), lr=1e-3)\n",
        "n_epochs = 30\n",
        "for epoch in range(1, n_epochs + 1):\n",
        "    model.train()\n",
        "    train_loss = 0.0\n",
        "    beta = min(1.0, epoch / 10)\n",
        "    for batch in train_loader:\n",
        "        x = batch.to(device)\n",
        "        optimizer.zero_grad()\n",
        "        recon, mu, logvar = model(x)\n",
        "        loss = loss_fn(recon, x, mu, logvar, beta)\n",
        "        loss.backward()\n",
        "        optimizer.step()\n",
        "        train_loss += loss.item()\n",
        "    avg_train = train_loss / train_size\n",
        "    model.eval()\n",
        "    val_loss = 0.0\n",
        "    with torch.no_grad():\n",
        "        for batch in val_loader:\n",
        "            x = batch.to(device)\n",
        "            recon, mu, logvar = model(x)\n",
        "            val_loss += loss_fn(recon, x, mu, logvar, beta).item()\n",
        "    avg_val = val_loss / val_size\n",
        "    print(f\"Epoch {epoch:02d}: Train Loss={avg_train:.4f}, Val Loss={avg_val:.4f}\")"
      ],
      "metadata": {
        "id": "fgrrIenXJAIG",
        "colab": {
          "base_uri": "https://localhost:8080/"
        },
        "outputId": "2a49b757-384b-41b0-f71f-0fb8d457924c"
      },
      "execution_count": 8,
      "outputs": [
        {
          "output_type": "stream",
          "name": "stdout",
          "text": [
            "Epoch 01: Train Loss=0.2833, Val Loss=0.0066\n",
            "Epoch 02: Train Loss=0.0040, Val Loss=0.0027\n",
            "Epoch 03: Train Loss=0.0023, Val Loss=0.0020\n",
            "Epoch 04: Train Loss=0.0019, Val Loss=0.0017\n",
            "Epoch 05: Train Loss=0.0017, Val Loss=0.0016\n",
            "Epoch 06: Train Loss=0.0016, Val Loss=0.0015\n",
            "Epoch 07: Train Loss=0.0016, Val Loss=0.0015\n",
            "Epoch 08: Train Loss=0.0016, Val Loss=0.0015\n",
            "Epoch 09: Train Loss=0.0016, Val Loss=0.0014\n",
            "Epoch 10: Train Loss=0.0016, Val Loss=0.0014\n",
            "Epoch 11: Train Loss=0.0015, Val Loss=0.0014\n",
            "Epoch 12: Train Loss=0.0015, Val Loss=0.0015\n",
            "Epoch 13: Train Loss=0.0015, Val Loss=0.0014\n",
            "Epoch 14: Train Loss=0.0015, Val Loss=0.0015\n",
            "Epoch 15: Train Loss=0.0015, Val Loss=0.0014\n",
            "Epoch 16: Train Loss=0.0015, Val Loss=0.0014\n",
            "Epoch 17: Train Loss=0.0015, Val Loss=0.0014\n",
            "Epoch 18: Train Loss=0.0015, Val Loss=0.0014\n",
            "Epoch 19: Train Loss=0.0015, Val Loss=0.0014\n",
            "Epoch 20: Train Loss=0.0015, Val Loss=0.0014\n",
            "Epoch 21: Train Loss=0.0015, Val Loss=0.0014\n",
            "Epoch 22: Train Loss=0.0015, Val Loss=0.0014\n",
            "Epoch 23: Train Loss=0.0015, Val Loss=0.0014\n",
            "Epoch 24: Train Loss=0.0015, Val Loss=0.0014\n",
            "Epoch 25: Train Loss=0.0015, Val Loss=0.0014\n",
            "Epoch 26: Train Loss=0.0015, Val Loss=0.0014\n",
            "Epoch 27: Train Loss=0.0015, Val Loss=0.0014\n",
            "Epoch 28: Train Loss=0.0015, Val Loss=0.0014\n",
            "Epoch 29: Train Loss=0.0015, Val Loss=0.0014\n",
            "Epoch 30: Train Loss=0.0015, Val Loss=0.0014\n"
          ]
        }
      ]
    },
    {
      "cell_type": "code",
      "source": [
        "# 6. Save model and user embeddings\n",
        "torch.save(model.state_dict(), 'vae_tourism_cf.pth')\n",
        "model.eval()\n",
        "embeddings = []\n",
        "for batch in DataLoader(dataset, batch_size=128):\n",
        "    batch = batch.to(device)\n",
        "    mu, _ = model.encode(batch)\n",
        "    embeddings.append(mu.detach().cpu().numpy())\n",
        "user_latent = np.vstack(embeddings)\n",
        "np.save('user_latent.npy', user_latent)"
      ],
      "metadata": {
        "id": "E0LDV5dqA_96"
      },
      "execution_count": 9,
      "outputs": []
    },
    {
      "cell_type": "code",
      "source": [
        "# 7. Reconstruct full matrix and export to Excel\n",
        "recon_data = []\n",
        "model.eval()\n",
        "with torch.no_grad():\n",
        "    for batch in DataLoader(dataset, batch_size=128):\n",
        "        recon_batch, _, _ = model(batch.to(device))\n",
        "        recon_data.append(recon_batch.cpu().numpy())\n",
        "dense_ui_hat = np.vstack(recon_data)\n",
        "max_rating = interactions['Rating'].max()\n",
        "dense_ui_hat = dense_ui_hat * max_rating\n",
        "df_hat = pd.DataFrame(dense_ui_hat, index=users, columns=items)\n",
        "df_hat.to_excel('reconstructed_transactions.xlsx')\n",
        "print(\"Reconstructed matrix saved to 'reconstructed_transactions.xlsx'.\")\n"
      ],
      "metadata": {
        "id": "DaHfJ_FUBE8o",
        "colab": {
          "base_uri": "https://localhost:8080/"
        },
        "outputId": "c2c07f09-9ad8-4e15-9358-24d14b69535f"
      },
      "execution_count": 10,
      "outputs": [
        {
          "output_type": "stream",
          "name": "stdout",
          "text": [
            "Reconstructed matrix saved to 'reconstructed_transactions.xlsx'.\n"
          ]
        }
      ]
    },
    {
      "cell_type": "code",
      "source": [
        "# 8. Evaluation on test set\n",
        "all_preds = []\n",
        "all_truths = []\n",
        "with torch.no_grad():\n",
        "    for batch in test_loader:\n",
        "        x = batch.to(device)\n",
        "        recon, _, _ = model(x)\n",
        "        recon = recon.cpu().numpy()\n",
        "        x_true = x.cpu().numpy()\n",
        "        all_preds.append(recon)\n",
        "        all_truths.append(x_true)\n",
        "\n",
        "y_true = np.vstack(all_truths) * max_rating\n",
        "y_pred = np.vstack(all_preds) * max_rating\n",
        "rmse = np.sqrt(mean_squared_error(y_true.flatten(), y_pred.flatten()))\n",
        "mae = mean_absolute_error(y_true.flatten(), y_pred.flatten())\n",
        "print(f\"\\nTest RMSE: {rmse:.4f}, MAE: {mae:.4f}\")"
      ],
      "metadata": {
        "id": "igu4roleBJ9j",
        "colab": {
          "base_uri": "https://localhost:8080/"
        },
        "outputId": "31c43824-333f-49f7-baf4-c0af0ffe177b"
      },
      "execution_count": 11,
      "outputs": [
        {
          "output_type": "stream",
          "name": "stdout",
          "text": [
            "\n",
            "Test RMSE: 0.0363, MAE: 0.0116\n"
          ]
        }
      ]
    }
  ]
}